{
 "cells": [
  {
   "cell_type": "markdown",
   "metadata": {},
   "source": [
    "# Capstone project Notebook: Seattle collisions"
   ]
  },
  {
   "cell_type": "code",
   "execution_count": 166,
   "metadata": {},
   "outputs": [],
   "source": [
    "import itertools\n",
    "import numpy as np\n",
    "import matplotlib.pyplot as plt\n",
    "from matplotlib.ticker import NullFormatter\n",
    "import pandas as pd\n",
    "import numpy as np\n",
    "import matplotlib.ticker as ticker\n",
    "from sklearn import preprocessing\n",
    "%matplotlib inline"
   ]
  },
  {
   "cell_type": "code",
   "execution_count": 167,
   "metadata": {},
   "outputs": [
    {
     "name": "stdout",
     "output_type": "stream",
     "text": [
      "(221006, 40)\n"
     ]
    },
    {
     "data": {
      "text/plain": [
       "Index(['X', 'Y', 'OBJECTID', 'INCKEY', 'COLDETKEY', 'REPORTNO', 'STATUS',\n",
       "       'ADDRTYPE', 'INTKEY', 'LOCATION', 'EXCEPTRSNCODE', 'EXCEPTRSNDESC',\n",
       "       'SEVERITYCODE', 'SEVERITYDESC', 'COLLISIONTYPE', 'PERSONCOUNT',\n",
       "       'PEDCOUNT', 'PEDCYLCOUNT', 'VEHCOUNT', 'INJURIES', 'SERIOUSINJURIES',\n",
       "       'FATALITIES', 'INCDATE', 'INCDTTM', 'JUNCTIONTYPE', 'SDOT_COLCODE',\n",
       "       'SDOT_COLDESC', 'INATTENTIONIND', 'UNDERINFL', 'WEATHER', 'ROADCOND',\n",
       "       'LIGHTCOND', 'PEDROWNOTGRNT', 'SDOTCOLNUM', 'SPEEDING', 'ST_COLCODE',\n",
       "       'ST_COLDESC', 'SEGLANEKEY', 'CROSSWALKKEY', 'HITPARKEDCAR'],\n",
       "      dtype='object')"
      ]
     },
     "execution_count": 167,
     "metadata": {},
     "output_type": "execute_result"
    }
   ],
   "source": [
    "# Data has been fetched from the Seattle city web page\n",
    "df = pd.read_csv('Seattle_Collisions.csv')\n",
    "print(df.shape)\n",
    "df.columns"
   ]
  },
  {
   "cell_type": "code",
   "execution_count": 210,
   "metadata": {},
   "outputs": [
    {
     "data": {
      "text/plain": [
       "1     137335\n",
       "2      58628\n",
       "0      21601\n",
       "2b      3092\n",
       "3        349\n",
       "Name: SEVERITYCODE, dtype: int64"
      ]
     },
     "execution_count": 210,
     "metadata": {},
     "output_type": "execute_result"
    }
   ],
   "source": [
    "#SEVERITYCODE is our target variable. The example dataset only contained values \"1\" & \"2\". The new dataset sampleswith all the values\n",
    "df['SEVERITYCODE'].value_counts()"
   ]
  },
  {
   "cell_type": "code",
   "execution_count": 211,
   "metadata": {
    "scrolled": true
   },
   "outputs": [
    {
     "data": {
      "text/plain": [
       "SEVERITYCODE  WEATHER                 \n",
       "0             Raining                     1.000000\n",
       "1             Clear                       0.568606\n",
       "              Raining                     0.165957\n",
       "              Overcast                    0.143581\n",
       "              Unknown                     0.106940\n",
       "              Snowing                     0.005529\n",
       "              Other                       0.005409\n",
       "              Fog/Smog/Smoke              0.002862\n",
       "              Sleet/Hail/Freezing Rain    0.000637\n",
       "              Blowing Sand/Dirt           0.000307\n",
       "              Severe Crosswind            0.000135\n",
       "              Partly Cloudy               0.000037\n",
       "2             Clear                       0.627649\n",
       "              Raining                     0.195668\n",
       "              Overcast                    0.153272\n",
       "              Unknown                     0.014161\n",
       "              Fog/Smog/Smoke              0.003263\n",
       "              Snowing                     0.002968\n",
       "              Other                       0.002065\n",
       "              Sleet/Hail/Freezing Rain    0.000503\n",
       "              Blowing Sand/Dirt           0.000260\n",
       "              Severe Crosswind            0.000121\n",
       "              Partly Cloudy               0.000069\n",
       "2b            Clear                       0.659868\n",
       "              Raining                     0.173684\n",
       "              Overcast                    0.146053\n",
       "              Unknown                     0.012829\n",
       "              Snowing                     0.003289\n",
       "              Other                       0.002303\n",
       "              Fog/Smog/Smoke              0.000987\n",
       "              Sleet/Hail/Freezing Rain    0.000658\n",
       "              Blowing Snow                0.000329\n",
       "3             Clear                       0.671598\n",
       "              Overcast                    0.156805\n",
       "              Raining                     0.147929\n",
       "              Fog/Smog/Smoke              0.008876\n",
       "              Other                       0.008876\n",
       "              Severe Crosswind            0.002959\n",
       "              Unknown                     0.002959\n",
       "Name: WEATHER, dtype: float64"
      ]
     },
     "execution_count": 211,
     "metadata": {},
     "output_type": "execute_result"
    }
   ],
   "source": [
    "# lets have a look at the relation severity code vs weather\n",
    "df.groupby(['SEVERITYCODE'])['WEATHER'].value_counts(normalize=True)\n"
   ]
  },
  {
   "cell_type": "code",
   "execution_count": 212,
   "metadata": {},
   "outputs": [
    {
     "data": {
      "text/plain": [
       "SEVERITYCODE  ROADCOND      \n",
       "0             Wet               1.000000\n",
       "1             Dry               0.637806\n",
       "              Wet               0.239456\n",
       "              Unknown           0.107417\n",
       "              Ice               0.007017\n",
       "              Snow/Slush        0.006283\n",
       "              Other             0.000674\n",
       "              Standing Water    0.000644\n",
       "              Sand/Mud/Dirt     0.000404\n",
       "              Oil               0.000300\n",
       "2             Dry               0.701469\n",
       "              Wet               0.275703\n",
       "              Unknown           0.013079\n",
       "              Ice               0.004770\n",
       "              Snow/Slush        0.002897\n",
       "              Other             0.000746\n",
       "              Standing Water    0.000520\n",
       "              Oil               0.000416\n",
       "              Sand/Mud/Dirt     0.000399\n",
       "2b            Dry               0.730946\n",
       "              Wet               0.248686\n",
       "              Unknown           0.009855\n",
       "              Ice               0.005913\n",
       "              Snow/Slush        0.002628\n",
       "              Other             0.000986\n",
       "              Standing Water    0.000986\n",
       "3             Dry               0.789941\n",
       "              Wet               0.204142\n",
       "              Ice               0.002959\n",
       "              Unknown           0.002959\n",
       "Name: ROADCOND, dtype: float64"
      ]
     },
     "execution_count": 212,
     "metadata": {},
     "output_type": "execute_result"
    }
   ],
   "source": [
    "# lets have a look at the relation severity code vs road conditions\n",
    "df.groupby(['SEVERITYCODE'])['ROADCOND'].value_counts(normalize=True)"
   ]
  },
  {
   "cell_type": "code",
   "execution_count": null,
   "metadata": {},
   "outputs": [],
   "source": []
  },
  {
   "cell_type": "markdown",
   "metadata": {},
   "source": []
  },
  {
   "cell_type": "markdown",
   "metadata": {},
   "source": [
    "## Data preprocessing"
   ]
  },
  {
   "cell_type": "markdown",
   "metadata": {},
   "source": [
    "Select the feature attributes for our model: prediction of the severity accident based on weather and road conditions"
   ]
  },
  {
   "cell_type": "code",
   "execution_count": 213,
   "metadata": {},
   "outputs": [
    {
     "name": "stdout",
     "output_type": "stream",
     "text": [
      "(221006, 3)\n"
     ]
    },
    {
     "data": {
      "text/plain": [
       "SEVERITYCODE    object\n",
       "WEATHER         object\n",
       "ROADCOND        object\n",
       "dtype: object"
      ]
     },
     "execution_count": 213,
     "metadata": {},
     "output_type": "execute_result"
    }
   ],
   "source": [
    "dfSeattle = df[['SEVERITYCODE', 'WEATHER', 'ROADCOND']].copy()\n",
    "print(dfSeattle.shape)\n",
    "dfSeattle.dtypes\n"
   ]
  },
  {
   "cell_type": "markdown",
   "metadata": {},
   "source": [
    "\n",
    "Identify and drop all the missing values"
   ]
  },
  {
   "cell_type": "code",
   "execution_count": 214,
   "metadata": {
    "scrolled": true
   },
   "outputs": [
    {
     "name": "stdout",
     "output_type": "stream",
     "text": [
      "(194438, 3)\n"
     ]
    },
    {
     "data": {
      "text/plain": [
       "1     133449\n",
       "2      57611\n",
       "2b      3039\n",
       "3        338\n",
       "0          1\n",
       "Name: SEVERITYCODE, dtype: int64"
      ]
     },
     "execution_count": 214,
     "metadata": {},
     "output_type": "execute_result"
    }
   ],
   "source": [
    "# Drop all the rows with no values in SEVERITYCODE\n",
    "dfSeattle.dropna(subset=[\"SEVERITYCODE\"], axis=0, inplace=True)\n",
    "dfSeattle.dropna(subset=[\"WEATHER\"], axis=0, inplace=True)\n",
    "dfSeattle.dropna(subset=[\"ROADCOND\"], axis=0, inplace=True)\n",
    "print(dfSeattle.shape)\n",
    "\n",
    "dfSeattle.drop_duplicates()\n",
    "dfSeattle['SEVERITYCODE'].value_counts()"
   ]
  },
  {
   "cell_type": "markdown",
   "metadata": {},
   "source": [
    "After the cleaning, most of the unknown cases (0) are gone"
   ]
  },
  {
   "cell_type": "markdown",
   "metadata": {},
   "source": [
    "## Convert Categorical features to numerical values"
   ]
  },
  {
   "cell_type": "markdown",
   "metadata": {},
   "source": [
    "In classification models, the target variable can be categorical. Therefore no changes are required for SEVERITYCODE\n"
   ]
  },
  {
   "cell_type": "markdown",
   "metadata": {},
   "source": [
    "One Hot Encoding will be used to convert the categorical features to numerical variables"
   ]
  },
  {
   "cell_type": "code",
   "execution_count": 185,
   "metadata": {},
   "outputs": [
    {
     "data": {
      "text/html": [
       "<div>\n",
       "<style scoped>\n",
       "    .dataframe tbody tr th:only-of-type {\n",
       "        vertical-align: middle;\n",
       "    }\n",
       "\n",
       "    .dataframe tbody tr th {\n",
       "        vertical-align: top;\n",
       "    }\n",
       "\n",
       "    .dataframe thead th {\n",
       "        text-align: right;\n",
       "    }\n",
       "</style>\n",
       "<table border=\"1\" class=\"dataframe\">\n",
       "  <thead>\n",
       "    <tr style=\"text-align: right;\">\n",
       "      <th></th>\n",
       "      <th>SEVERITYCODE</th>\n",
       "      <th>ROADCOND</th>\n",
       "      <th>Blowing Sand/Dirt</th>\n",
       "      <th>Clear</th>\n",
       "      <th>Fog/Smog/Smoke</th>\n",
       "      <th>Other</th>\n",
       "      <th>Overcast</th>\n",
       "      <th>Partly Cloudy</th>\n",
       "      <th>Raining</th>\n",
       "      <th>Severe Crosswind</th>\n",
       "      <th>Sleet/Hail/Freezing Rain</th>\n",
       "      <th>Snowing</th>\n",
       "      <th>Unknown</th>\n",
       "    </tr>\n",
       "  </thead>\n",
       "  <tbody>\n",
       "    <tr>\n",
       "      <th>2</th>\n",
       "      <td>1</td>\n",
       "      <td>Dry</td>\n",
       "      <td>0</td>\n",
       "      <td>1</td>\n",
       "      <td>0</td>\n",
       "      <td>0</td>\n",
       "      <td>0</td>\n",
       "      <td>0</td>\n",
       "      <td>0</td>\n",
       "      <td>0</td>\n",
       "      <td>0</td>\n",
       "      <td>0</td>\n",
       "      <td>0</td>\n",
       "    </tr>\n",
       "    <tr>\n",
       "      <th>3</th>\n",
       "      <td>1</td>\n",
       "      <td>Dry</td>\n",
       "      <td>0</td>\n",
       "      <td>1</td>\n",
       "      <td>0</td>\n",
       "      <td>0</td>\n",
       "      <td>0</td>\n",
       "      <td>0</td>\n",
       "      <td>0</td>\n",
       "      <td>0</td>\n",
       "      <td>0</td>\n",
       "      <td>0</td>\n",
       "      <td>0</td>\n",
       "    </tr>\n",
       "    <tr>\n",
       "      <th>5</th>\n",
       "      <td>2</td>\n",
       "      <td>Dry</td>\n",
       "      <td>0</td>\n",
       "      <td>1</td>\n",
       "      <td>0</td>\n",
       "      <td>0</td>\n",
       "      <td>0</td>\n",
       "      <td>0</td>\n",
       "      <td>0</td>\n",
       "      <td>0</td>\n",
       "      <td>0</td>\n",
       "      <td>0</td>\n",
       "      <td>0</td>\n",
       "    </tr>\n",
       "    <tr>\n",
       "      <th>7</th>\n",
       "      <td>1</td>\n",
       "      <td>Dry</td>\n",
       "      <td>0</td>\n",
       "      <td>1</td>\n",
       "      <td>0</td>\n",
       "      <td>0</td>\n",
       "      <td>0</td>\n",
       "      <td>0</td>\n",
       "      <td>0</td>\n",
       "      <td>0</td>\n",
       "      <td>0</td>\n",
       "      <td>0</td>\n",
       "      <td>0</td>\n",
       "    </tr>\n",
       "    <tr>\n",
       "      <th>8</th>\n",
       "      <td>1</td>\n",
       "      <td>Dry</td>\n",
       "      <td>0</td>\n",
       "      <td>1</td>\n",
       "      <td>0</td>\n",
       "      <td>0</td>\n",
       "      <td>0</td>\n",
       "      <td>0</td>\n",
       "      <td>0</td>\n",
       "      <td>0</td>\n",
       "      <td>0</td>\n",
       "      <td>0</td>\n",
       "      <td>0</td>\n",
       "    </tr>\n",
       "  </tbody>\n",
       "</table>\n",
       "</div>"
      ],
      "text/plain": [
       "  SEVERITYCODE ROADCOND  Blowing Sand/Dirt  Clear  Fog/Smog/Smoke  Other  \\\n",
       "2            1      Dry                  0      1               0      0   \n",
       "3            1      Dry                  0      1               0      0   \n",
       "5            2      Dry                  0      1               0      0   \n",
       "7            1      Dry                  0      1               0      0   \n",
       "8            1      Dry                  0      1               0      0   \n",
       "\n",
       "   Overcast  Partly Cloudy  Raining  Severe Crosswind  \\\n",
       "2         0              0        0                 0   \n",
       "3         0              0        0                 0   \n",
       "5         0              0        0                 0   \n",
       "7         0              0        0                 0   \n",
       "8         0              0        0                 0   \n",
       "\n",
       "   Sleet/Hail/Freezing Rain  Snowing  Unknown  \n",
       "2                         0        0        0  \n",
       "3                         0        0        0  \n",
       "5                         0        0        0  \n",
       "7                         0        0        0  \n",
       "8                         0        0        0  "
      ]
     },
     "execution_count": 185,
     "metadata": {},
     "output_type": "execute_result"
    }
   ],
   "source": [
    "dummyWeather = pd.get_dummies(dfSeattle['WEATHER'])\n",
    "dfSeattle = pd.concat([dfSeattle, dummyWeather], axis=1)\n",
    "dfSeattle.drop(['WEATHER'], axis=1, inplace= True)\n",
    "\n",
    "dfSeattle.head()\n"
   ]
  },
  {
   "cell_type": "code",
   "execution_count": 216,
   "metadata": {},
   "outputs": [
    {
     "data": {
      "text/html": [
       "<div>\n",
       "<style scoped>\n",
       "    .dataframe tbody tr th:only-of-type {\n",
       "        vertical-align: middle;\n",
       "    }\n",
       "\n",
       "    .dataframe tbody tr th {\n",
       "        vertical-align: top;\n",
       "    }\n",
       "\n",
       "    .dataframe thead th {\n",
       "        text-align: right;\n",
       "    }\n",
       "</style>\n",
       "<table border=\"1\" class=\"dataframe\">\n",
       "  <thead>\n",
       "    <tr style=\"text-align: right;\">\n",
       "      <th></th>\n",
       "      <th>SEVERITYCODE</th>\n",
       "      <th>WEATHER</th>\n",
       "      <th>Dry</th>\n",
       "      <th>Ice</th>\n",
       "      <th>Oil</th>\n",
       "      <th>Other</th>\n",
       "      <th>Sand/Mud/Dirt</th>\n",
       "      <th>Snow/Slush</th>\n",
       "      <th>Standing Water</th>\n",
       "      <th>Unknown</th>\n",
       "      <th>Wet</th>\n",
       "    </tr>\n",
       "  </thead>\n",
       "  <tbody>\n",
       "    <tr>\n",
       "      <th>2</th>\n",
       "      <td>1</td>\n",
       "      <td>Clear</td>\n",
       "      <td>1</td>\n",
       "      <td>0</td>\n",
       "      <td>0</td>\n",
       "      <td>0</td>\n",
       "      <td>0</td>\n",
       "      <td>0</td>\n",
       "      <td>0</td>\n",
       "      <td>0</td>\n",
       "      <td>0</td>\n",
       "    </tr>\n",
       "    <tr>\n",
       "      <th>3</th>\n",
       "      <td>1</td>\n",
       "      <td>Clear</td>\n",
       "      <td>1</td>\n",
       "      <td>0</td>\n",
       "      <td>0</td>\n",
       "      <td>0</td>\n",
       "      <td>0</td>\n",
       "      <td>0</td>\n",
       "      <td>0</td>\n",
       "      <td>0</td>\n",
       "      <td>0</td>\n",
       "    </tr>\n",
       "    <tr>\n",
       "      <th>5</th>\n",
       "      <td>2</td>\n",
       "      <td>Clear</td>\n",
       "      <td>1</td>\n",
       "      <td>0</td>\n",
       "      <td>0</td>\n",
       "      <td>0</td>\n",
       "      <td>0</td>\n",
       "      <td>0</td>\n",
       "      <td>0</td>\n",
       "      <td>0</td>\n",
       "      <td>0</td>\n",
       "    </tr>\n",
       "    <tr>\n",
       "      <th>7</th>\n",
       "      <td>1</td>\n",
       "      <td>Clear</td>\n",
       "      <td>1</td>\n",
       "      <td>0</td>\n",
       "      <td>0</td>\n",
       "      <td>0</td>\n",
       "      <td>0</td>\n",
       "      <td>0</td>\n",
       "      <td>0</td>\n",
       "      <td>0</td>\n",
       "      <td>0</td>\n",
       "    </tr>\n",
       "    <tr>\n",
       "      <th>8</th>\n",
       "      <td>1</td>\n",
       "      <td>Clear</td>\n",
       "      <td>1</td>\n",
       "      <td>0</td>\n",
       "      <td>0</td>\n",
       "      <td>0</td>\n",
       "      <td>0</td>\n",
       "      <td>0</td>\n",
       "      <td>0</td>\n",
       "      <td>0</td>\n",
       "      <td>0</td>\n",
       "    </tr>\n",
       "  </tbody>\n",
       "</table>\n",
       "</div>"
      ],
      "text/plain": [
       "  SEVERITYCODE WEATHER  Dry  Ice  Oil  Other  Sand/Mud/Dirt  Snow/Slush  \\\n",
       "2            1   Clear    1    0    0      0              0           0   \n",
       "3            1   Clear    1    0    0      0              0           0   \n",
       "5            2   Clear    1    0    0      0              0           0   \n",
       "7            1   Clear    1    0    0      0              0           0   \n",
       "8            1   Clear    1    0    0      0              0           0   \n",
       "\n",
       "   Standing Water  Unknown  Wet  \n",
       "2               0        0    0  \n",
       "3               0        0    0  \n",
       "5               0        0    0  \n",
       "7               0        0    0  \n",
       "8               0        0    0  "
      ]
     },
     "execution_count": 216,
     "metadata": {},
     "output_type": "execute_result"
    }
   ],
   "source": [
    "dummyRoad = pd.get_dummies(dfSeattle['ROADCOND'])\n",
    "dfSeattle = pd.concat([dfSeattle, dummyRoad], axis=1)\n",
    "dfSeattle.drop(['ROADCOND'], axis=1, inplace= True)\n",
    "\n",
    "dfSeattle.head()\n"
   ]
  },
  {
   "cell_type": "code",
   "execution_count": 149,
   "metadata": {},
   "outputs": [
    {
     "name": "stdout",
     "output_type": "stream",
     "text": [
      "(194438, 21)\n"
     ]
    },
    {
     "data": {
      "text/plain": [
       "SEVERITYCODE                int32\n",
       "Blowing Sand/Dirt           uint8\n",
       "Clear                       uint8\n",
       "Fog/Smog/Smoke              uint8\n",
       "Other                       uint8\n",
       "Overcast                    uint8\n",
       "Partly Cloudy               uint8\n",
       "Raining                     uint8\n",
       "Severe Crosswind            uint8\n",
       "Sleet/Hail/Freezing Rain    uint8\n",
       "Snowing                     uint8\n",
       "Unknown                     uint8\n",
       "Dry                         uint8\n",
       "Ice                         uint8\n",
       "Oil                         uint8\n",
       "Other                       uint8\n",
       "Sand/Mud/Dirt               uint8\n",
       "Snow/Slush                  uint8\n",
       "Standing Water              uint8\n",
       "Unknown                     uint8\n",
       "Wet                         uint8\n",
       "dtype: object"
      ]
     },
     "execution_count": 149,
     "metadata": {},
     "output_type": "execute_result"
    }
   ],
   "source": [
    "print(dfSeattle.shape)\n",
    "dfSeattle.dtypes"
   ]
  },
  {
   "cell_type": "markdown",
   "metadata": {},
   "source": [
    "Variables have now the right format and missing values have been dropped  \n",
    "It is time to prepare the variables for the model"
   ]
  },
  {
   "cell_type": "code",
   "execution_count": 217,
   "metadata": {},
   "outputs": [],
   "source": [
    "y = dfSeattle['SEVERITYCODE'].values\n"
   ]
  },
  {
   "cell_type": "code",
   "execution_count": 193,
   "metadata": {
    "scrolled": true
   },
   "outputs": [
    {
     "data": {
      "text/html": [
       "<div>\n",
       "<style scoped>\n",
       "    .dataframe tbody tr th:only-of-type {\n",
       "        vertical-align: middle;\n",
       "    }\n",
       "\n",
       "    .dataframe tbody tr th {\n",
       "        vertical-align: top;\n",
       "    }\n",
       "\n",
       "    .dataframe thead th {\n",
       "        text-align: right;\n",
       "    }\n",
       "</style>\n",
       "<table border=\"1\" class=\"dataframe\">\n",
       "  <thead>\n",
       "    <tr style=\"text-align: right;\">\n",
       "      <th></th>\n",
       "      <th>Blowing Sand/Dirt</th>\n",
       "      <th>Clear</th>\n",
       "      <th>Fog/Smog/Smoke</th>\n",
       "      <th>Other</th>\n",
       "      <th>Overcast</th>\n",
       "      <th>Partly Cloudy</th>\n",
       "      <th>Raining</th>\n",
       "      <th>Severe Crosswind</th>\n",
       "      <th>Sleet/Hail/Freezing Rain</th>\n",
       "      <th>Snowing</th>\n",
       "      <th>Unknown</th>\n",
       "      <th>Dry</th>\n",
       "      <th>Ice</th>\n",
       "      <th>Oil</th>\n",
       "      <th>Other</th>\n",
       "      <th>Sand/Mud/Dirt</th>\n",
       "      <th>Snow/Slush</th>\n",
       "      <th>Standing Water</th>\n",
       "      <th>Unknown</th>\n",
       "      <th>Wet</th>\n",
       "    </tr>\n",
       "  </thead>\n",
       "  <tbody>\n",
       "    <tr>\n",
       "      <th>2</th>\n",
       "      <td>0</td>\n",
       "      <td>1</td>\n",
       "      <td>0</td>\n",
       "      <td>0</td>\n",
       "      <td>0</td>\n",
       "      <td>0</td>\n",
       "      <td>0</td>\n",
       "      <td>0</td>\n",
       "      <td>0</td>\n",
       "      <td>0</td>\n",
       "      <td>0</td>\n",
       "      <td>1</td>\n",
       "      <td>0</td>\n",
       "      <td>0</td>\n",
       "      <td>0</td>\n",
       "      <td>0</td>\n",
       "      <td>0</td>\n",
       "      <td>0</td>\n",
       "      <td>0</td>\n",
       "      <td>0</td>\n",
       "    </tr>\n",
       "    <tr>\n",
       "      <th>3</th>\n",
       "      <td>0</td>\n",
       "      <td>1</td>\n",
       "      <td>0</td>\n",
       "      <td>0</td>\n",
       "      <td>0</td>\n",
       "      <td>0</td>\n",
       "      <td>0</td>\n",
       "      <td>0</td>\n",
       "      <td>0</td>\n",
       "      <td>0</td>\n",
       "      <td>0</td>\n",
       "      <td>1</td>\n",
       "      <td>0</td>\n",
       "      <td>0</td>\n",
       "      <td>0</td>\n",
       "      <td>0</td>\n",
       "      <td>0</td>\n",
       "      <td>0</td>\n",
       "      <td>0</td>\n",
       "      <td>0</td>\n",
       "    </tr>\n",
       "    <tr>\n",
       "      <th>5</th>\n",
       "      <td>0</td>\n",
       "      <td>1</td>\n",
       "      <td>0</td>\n",
       "      <td>0</td>\n",
       "      <td>0</td>\n",
       "      <td>0</td>\n",
       "      <td>0</td>\n",
       "      <td>0</td>\n",
       "      <td>0</td>\n",
       "      <td>0</td>\n",
       "      <td>0</td>\n",
       "      <td>1</td>\n",
       "      <td>0</td>\n",
       "      <td>0</td>\n",
       "      <td>0</td>\n",
       "      <td>0</td>\n",
       "      <td>0</td>\n",
       "      <td>0</td>\n",
       "      <td>0</td>\n",
       "      <td>0</td>\n",
       "    </tr>\n",
       "    <tr>\n",
       "      <th>7</th>\n",
       "      <td>0</td>\n",
       "      <td>1</td>\n",
       "      <td>0</td>\n",
       "      <td>0</td>\n",
       "      <td>0</td>\n",
       "      <td>0</td>\n",
       "      <td>0</td>\n",
       "      <td>0</td>\n",
       "      <td>0</td>\n",
       "      <td>0</td>\n",
       "      <td>0</td>\n",
       "      <td>1</td>\n",
       "      <td>0</td>\n",
       "      <td>0</td>\n",
       "      <td>0</td>\n",
       "      <td>0</td>\n",
       "      <td>0</td>\n",
       "      <td>0</td>\n",
       "      <td>0</td>\n",
       "      <td>0</td>\n",
       "    </tr>\n",
       "    <tr>\n",
       "      <th>8</th>\n",
       "      <td>0</td>\n",
       "      <td>1</td>\n",
       "      <td>0</td>\n",
       "      <td>0</td>\n",
       "      <td>0</td>\n",
       "      <td>0</td>\n",
       "      <td>0</td>\n",
       "      <td>0</td>\n",
       "      <td>0</td>\n",
       "      <td>0</td>\n",
       "      <td>0</td>\n",
       "      <td>1</td>\n",
       "      <td>0</td>\n",
       "      <td>0</td>\n",
       "      <td>0</td>\n",
       "      <td>0</td>\n",
       "      <td>0</td>\n",
       "      <td>0</td>\n",
       "      <td>0</td>\n",
       "      <td>0</td>\n",
       "    </tr>\n",
       "  </tbody>\n",
       "</table>\n",
       "</div>"
      ],
      "text/plain": [
       "   Blowing Sand/Dirt  Clear  Fog/Smog/Smoke  Other  Overcast  Partly Cloudy  \\\n",
       "2                  0      1               0      0         0              0   \n",
       "3                  0      1               0      0         0              0   \n",
       "5                  0      1               0      0         0              0   \n",
       "7                  0      1               0      0         0              0   \n",
       "8                  0      1               0      0         0              0   \n",
       "\n",
       "   Raining  Severe Crosswind  Sleet/Hail/Freezing Rain  Snowing  Unknown  Dry  \\\n",
       "2        0                 0                         0        0        0    1   \n",
       "3        0                 0                         0        0        0    1   \n",
       "5        0                 0                         0        0        0    1   \n",
       "7        0                 0                         0        0        0    1   \n",
       "8        0                 0                         0        0        0    1   \n",
       "\n",
       "   Ice  Oil  Other  Sand/Mud/Dirt  Snow/Slush  Standing Water  Unknown  Wet  \n",
       "2    0    0      0              0           0               0        0    0  \n",
       "3    0    0      0              0           0               0        0    0  \n",
       "5    0    0      0              0           0               0        0    0  \n",
       "7    0    0      0              0           0               0        0    0  \n",
       "8    0    0      0              0           0               0        0    0  "
      ]
     },
     "execution_count": 193,
     "metadata": {},
     "output_type": "execute_result"
    }
   ],
   "source": [
    "dfSeattle.drop(['SEVERITYCODE'], axis=1, inplace= True)\n",
    "X = dfSeattle\n",
    "X[0:5]"
   ]
  },
  {
   "cell_type": "markdown",
   "metadata": {},
   "source": [
    "## Building a classification model: Decision Tree"
   ]
  },
  {
   "cell_type": "markdown",
   "metadata": {},
   "source": [
    "A Decision Tree machine learning algorithm will be used to build a model from the historical collision data already prepared "
   ]
  },
  {
   "cell_type": "code",
   "execution_count": 228,
   "metadata": {},
   "outputs": [
    {
     "name": "stdout",
     "output_type": "stream",
     "text": [
      "Train set: (155550, 20) (155550,)\n",
      "Test set: (38888, 20) (38888,)\n"
     ]
    }
   ],
   "source": [
    "# We split the X into train and test to find the best k\n",
    "from sklearn.model_selection import train_test_split\n",
    "X_train, X_test, y_train, y_test = train_test_split(X, y, test_size=0.2, random_state=4)\n",
    "print ('Train set:', X_train.shape,  y_train.shape)\n",
    "print ('Test set:', X_test.shape,  y_test.shape)"
   ]
  },
  {
   "cell_type": "code",
   "execution_count": 229,
   "metadata": {},
   "outputs": [
    {
     "data": {
      "text/plain": [
       "DecisionTreeClassifier(ccp_alpha=0.0, class_weight=None, criterion='entropy',\n",
       "                       max_depth=4, max_features=None, max_leaf_nodes=None,\n",
       "                       min_impurity_decrease=0.0, min_impurity_split=None,\n",
       "                       min_samples_leaf=1, min_samples_split=2,\n",
       "                       min_weight_fraction_leaf=0.0, presort='deprecated',\n",
       "                       random_state=None, splitter='best')"
      ]
     },
     "execution_count": 229,
     "metadata": {},
     "output_type": "execute_result"
    }
   ],
   "source": [
    "from sklearn.tree import DecisionTreeClassifier\n",
    "DT_Seattle = DecisionTreeClassifier(criterion=\"entropy\", max_depth = 4)\n",
    "DT_Seattle.fit(X_train,y_train)\n",
    "DT_Seattle"
   ]
  },
  {
   "cell_type": "code",
   "execution_count": 230,
   "metadata": {},
   "outputs": [
    {
     "data": {
      "text/plain": [
       "array(['1', '1', '1', ..., '1', '1', '1'], dtype=object)"
      ]
     },
     "execution_count": 230,
     "metadata": {},
     "output_type": "execute_result"
    }
   ],
   "source": [
    "yhat = DT_Seattle.predict(X_test)\n",
    "yhat"
   ]
  },
  {
   "cell_type": "code",
   "execution_count": 231,
   "metadata": {
    "scrolled": true
   },
   "outputs": [
    {
     "name": "stderr",
     "output_type": "stream",
     "text": [
      "C:\\Users\\iblanco\\Anaconda3\\lib\\site-packages\\sklearn\\metrics\\_classification.py:664: FutureWarning: jaccard_similarity_score has been deprecated and replaced with jaccard_score. It will be removed in version 0.23. This implementation has surprising behavior for binary and multiclass classification tasks.\n",
      "  FutureWarning)\n"
     ]
    },
    {
     "name": "stdout",
     "output_type": "stream",
     "text": [
      "DT Jaccard index: 0.69\n",
      "DT F1-score: 0.82\n"
     ]
    }
   ],
   "source": [
    "from sklearn.metrics import jaccard_similarity_score\n",
    "from sklearn.metrics import f1_score\n",
    "\n",
    "DT_yhat = DT_Seattle.predict(X_test)\n",
    "print(\"DT Jaccard index: %.2f\" % jaccard_similarity_score(y_test, DT_yhat))\n",
    "print(\"DT F1-score: %.2f\" % f1_score(y_test, DT_yhat, average='weighted', labels=np.unique(DT_yhat)) )"
   ]
  },
  {
   "cell_type": "markdown",
   "metadata": {},
   "source": [
    "The model is able to predict the correct values in the test dataset 80% of the times"
   ]
  }
 ],
 "metadata": {
  "kernelspec": {
   "display_name": "Python 3",
   "language": "python",
   "name": "python3"
  },
  "language_info": {
   "codemirror_mode": {
    "name": "ipython",
    "version": 3
   },
   "file_extension": ".py",
   "mimetype": "text/x-python",
   "name": "python",
   "nbconvert_exporter": "python",
   "pygments_lexer": "ipython3",
   "version": "3.7.6"
  }
 },
 "nbformat": 4,
 "nbformat_minor": 4
}
